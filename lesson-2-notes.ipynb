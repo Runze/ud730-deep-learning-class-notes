{
 "cells": [
  {
   "cell_type": "markdown",
   "metadata": {},
   "source": [
    "## Rectified linear units (ReLU)"
   ]
  },
  {
   "cell_type": "markdown",
   "metadata": {},
   "source": [
    "$$f(x) = max(0, x)$$"
   ]
  },
  {
   "cell_type": "markdown",
   "metadata": {},
   "source": [
    "<img src=\"https://d17h27t6h515a5.cloudfront.net/topher/2017/February/58ae4386_two-layer-network/two-layer-network.png\" alt=\"alt text\" width=\"600\">"
   ]
  },
  {
   "cell_type": "markdown",
   "metadata": {},
   "source": [
    "Adding a hidden layer to a network allows it to model more complex functions. Also, using a non-linear activation function on the hidden layer lets it model non-linear functions. (Depicted above is a \"2-layer\" neural network.)"
   ]
  },
  {
   "cell_type": "markdown",
   "metadata": {},
   "source": [
    "## Backpropagation"
   ]
  },
  {
   "cell_type": "markdown",
   "metadata": {},
   "source": [
    "<img src=\"https://raw.githubusercontent.com/Runze/ud730-deep-learning-class-notes/master/screenshots/lesson-3-backprop.png\" alt=\"alt text\" width=\"700\">"
   ]
  },
  {
   "cell_type": "markdown",
   "metadata": {},
   "source": [
    "Read more [here](https://en.wikipedia.org/wiki/Backpropagation#Finding_the_derivative_of_the_error)."
   ]
  },
  {
   "cell_type": "markdown",
   "metadata": {},
   "source": [
    "## Deep learning network"
   ]
  },
  {
   "cell_type": "markdown",
   "metadata": {},
   "source": [
    "The benefit of building a deep learning network:\n",
    "- One can typically get much more performance with pure parameters by going deeper rather than wider.\n",
    "- Many phenomena tend to have a hierarchical structure which deep models naturally capture (e.g., image recognition)."
   ]
  },
  {
   "cell_type": "markdown",
   "metadata": {},
   "source": [
    "## Regularization"
   ]
  },
  {
   "cell_type": "markdown",
   "metadata": {},
   "source": [
    "- Early termination: stop as soon as we stop improving the performance on the validation set.\n",
    "- L2 regularization: $\\text{loss} + \\beta \\frac{1}{2} \\Vert w \\Vert _2^2 = \\text{loss} + \\beta \\frac{1}{2} (w_1^2 + w_2^2 + \\dots + w_n^2)$\n",
    "- Dropout: randomly set half of the activation to 0, effectively throwing away half of the data that's flowing through the network, and randomly do it again. As a result, the network cannot rely on any activation to be present and is forced to learn a redundant representation for everything to make sure that at least some of the information remains, eventually making things more robust and preventing overfitting. After training, get a consensus by averaging the activations."
   ]
  }
 ],
 "metadata": {
  "kernelspec": {
   "display_name": "Python 2",
   "language": "python",
   "name": "python2"
  },
  "language_info": {
   "codemirror_mode": {
    "name": "ipython",
    "version": 2
   },
   "file_extension": ".py",
   "mimetype": "text/x-python",
   "name": "python",
   "nbconvert_exporter": "python",
   "pygments_lexer": "ipython2",
   "version": "2.7.9"
  }
 },
 "nbformat": 4,
 "nbformat_minor": 2
}
