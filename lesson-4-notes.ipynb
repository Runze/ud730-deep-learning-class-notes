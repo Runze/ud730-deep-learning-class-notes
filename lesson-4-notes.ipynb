{
 "cells": [
  {
   "cell_type": "markdown",
   "metadata": {},
   "source": [
    "## Embeddings"
   ]
  },
  {
   "cell_type": "markdown",
   "metadata": {},
   "source": [
    "Similar words occur in similar contexts. This idea is used to map words to small vectors called *embeddings* which are going to be close to each other when words have similar meanings and far apart when they don't."
   ]
  },
  {
   "cell_type": "markdown",
   "metadata": {},
   "source": [
    "### Word2Vec"
   ]
  },
  {
   "cell_type": "markdown",
   "metadata": {},
   "source": [
    "1. For each word, map it to an embedding, initially a random one.\n",
    "2. Use the embedding to predict the context of a word. The context is simply the words that are nearby (in a window around the original word).\n",
    "3. The model used to predict a nearby word is a logistic regression.\n",
    "4. Use tSNE to visually examine the resulting word distance.\n",
    "\n",
    "<img src=\"https://raw.githubusercontent.com/Runze/ud730-deep-learning-class-notes/master/screenshots/lesson-5-word2vec.png\" alt=\"alt text\" width=\"700\">"
   ]
  },
  {
   "cell_type": "markdown",
   "metadata": {},
   "source": [
    "To compare embeddings, use cosine distance:\n",
    "$${\\mathbf {A} \\cdot \\mathbf {B}  \\over \\|\\mathbf {A} \\|_{2}\\|\\mathbf {B} \\|_{2}}={\\frac {\\sum \\limits _{i=1}^{n}{A_{i}B_{i}}}{{\\sqrt {\\sum \\limits _{i=1}^{n}{A_{i}^{2}}}}{\\sqrt {\\sum \\limits _{i=1}^{n}{B_{i}^{2}}}}}}$$"
   ]
  },
  {
   "cell_type": "code",
   "execution_count": null,
   "metadata": {
    "collapsed": true
   },
   "outputs": [],
   "source": []
  }
 ],
 "metadata": {
  "kernelspec": {
   "display_name": "Python 2",
   "language": "python",
   "name": "python2"
  },
  "language_info": {
   "codemirror_mode": {
    "name": "ipython",
    "version": 2
   },
   "file_extension": ".py",
   "mimetype": "text/x-python",
   "name": "python",
   "nbconvert_exporter": "python",
   "pygments_lexer": "ipython2",
   "version": "2.7.9"
  }
 },
 "nbformat": 4,
 "nbformat_minor": 2
}
