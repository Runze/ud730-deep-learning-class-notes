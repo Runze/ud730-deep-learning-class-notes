{
 "cells": [
  {
   "cell_type": "markdown",
   "metadata": {},
   "source": [
    "## Embeddings"
   ]
  },
  {
   "cell_type": "markdown",
   "metadata": {},
   "source": [
    "Similar words occur in similar contexts. This idea is used to map words to small vectors called *embeddings* which are going to be close to each other when words have similar meanings and far apart when they don't."
   ]
  },
  {
   "cell_type": "markdown",
   "metadata": {},
   "source": [
    "## Word2Vec\n",
    "### Skip-Gram model"
   ]
  },
  {
   "cell_type": "markdown",
   "metadata": {},
   "source": [
    "1. For each word, map it to an embedding, initially a random one.\n",
    "2. Use the embedding to predict the context of a word. The context is simply the words that are nearby (in a window around the original word).\n",
    "3. The model used to predict a nearby word is a logistic regression.\n",
    "4. Use tSNE to visually examine the resulting word distance.\n",
    "\n",
    "<img src=\"https://raw.githubusercontent.com/Runze/ud730-deep-learning-class-notes/master/screenshots/lesson-5-word2vec.png\" alt=\"alt text\" width=\"700\">"
   ]
  },
  {
   "cell_type": "markdown",
   "metadata": {},
   "source": [
    "To compare embeddings, use cosine distance\n",
    "\n",
    "$$\\frac{\\textbf {A} \\cdot \\textbf {B}}{\\Vert \\textbf {A} \\Vert_2 \\Vert \\textbf {B} \\Vert_2} = \\frac {\\sum_{i=1}^{n}{A_{i}B_{i}}}{{\\sqrt {\\sum_{i=1}^{n}{A_{i}^{2}}}}{\\sqrt {\\sum_{i=1}^{n}{B_{i}^{2}}}}}$$"
   ]
  },
  {
   "cell_type": "markdown",
   "metadata": {},
   "source": [
    "To speed up training, use *sampled softmax* to randomly sample the negative that are not the target (i.e., the 0s in the one-hot-encoded labels):\n",
    "\n",
    "<img src=\"https://raw.githubusercontent.com/Runze/ud730-deep-learning-class-notes/master/screenshots/lesson-5-word2vec_sampled-softmax.png\" alt=\"alt text\" width=\"700\">"
   ]
  },
  {
   "cell_type": "markdown",
   "metadata": {},
   "source": [
    "### Continuous Bag-of-Words model (CBOW)"
   ]
  },
  {
   "cell_type": "markdown",
   "metadata": {},
   "source": [
    "CBOW predicts target words (e.g. 'mat') from source context words ('the cat sits on the'), while the skip-gram does the inverse and predicts source context-words from the target words. This inversion might seem like an arbitrary choice, but statistically it has the effect that CBOW smoothes over a lot of the distributional information (by treating an entire context as one observation). For the most part, this turns out to be a useful thing for smaller datasets. However, skip-gram treats each context-target pair as a new observation, and this tends to do better when we have larger datasets. ([Source](https://www.tensorflow.org/tutorials/word2vec))"
   ]
  },
  {
   "cell_type": "markdown",
   "metadata": {},
   "source": [
    "## Recurrent neural networks"
   ]
  },
  {
   "cell_type": "markdown",
   "metadata": {},
   "source": [
    "Like CovNets, recurrent neural networks share parameters too; instead of sharing them across space, it does so over time.\n",
    "\n",
    "<img src=\"https://raw.githubusercontent.com/Runze/ud730-deep-learning-class-notes/master/screenshots/lesson-5-rnn.png\" alt=\"alt text\" width=\"700\">"
   ]
  },
  {
   "cell_type": "markdown",
   "metadata": {},
   "source": [
    "### Exploding and vanishing gradients"
   ]
  },
  {
   "cell_type": "markdown",
   "metadata": {},
   "source": [
    "As we backprogate through time, we are applying all these derivatives to the same parameters $w$ (because they are shared), which creates a lot of correlated updates and makes stochasitc gradient descent unstable. Either the gradients go exponentially and we end up with *exploding gradients*, or they go down to 0 and we end up with *vanishing gradients* and makes the model only remember the recent past.\n",
    "\n",
    "- To prevent exploding gradients, we can cap the norm of the gradient.\n",
    "- To prevent vanishing gradients, we can use LSTM."
   ]
  },
  {
   "cell_type": "markdown",
   "metadata": {},
   "source": [
    "### LSTM (long short-term memory)"
   ]
  },
  {
   "cell_type": "code",
   "execution_count": null,
   "metadata": {
    "collapsed": true
   },
   "outputs": [],
   "source": []
  }
 ],
 "metadata": {
  "kernelspec": {
   "display_name": "Python 2",
   "language": "python",
   "name": "python2"
  },
  "language_info": {
   "codemirror_mode": {
    "name": "ipython",
    "version": 2
   },
   "file_extension": ".py",
   "mimetype": "text/x-python",
   "name": "python",
   "nbconvert_exporter": "python",
   "pygments_lexer": "ipython2",
   "version": "2.7.9"
  }
 },
 "nbformat": 4,
 "nbformat_minor": 2
}
